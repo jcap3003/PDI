{
 "cells": [
  {
   "cell_type": "code",
   "execution_count": null,
   "metadata": {
    "collapsed": false
   },
   "outputs": [],
   "source": [
    "# Make sure to have the server side running in V-REP: \n",
    "# in a child script of a V-REP scene, add following command\n",
    "# to be executed just once, at simulation start:\n",
    "#\n",
    "# simRemoteApi.start(19999)\n",
    "#\n",
    "# then start simulation, and run this program.\n",
    "#\n",
    "# IMPORTANT: for each successful call to simxStart, there\n",
    "# should be a corresponding call to simxFinish at the end!\n",
    "import cv2\n",
    "import numpy as np\n",
    "import matplotlib.pyplot as plt\n",
    "from skimage import img_as_ubyte\n",
    "from PIL import Image\n",
    "import array\n",
    "try:\n",
    "    import vrep\n",
    "except:\n",
    "    print ('--------------------------------------------------------------')\n",
    "    print ('\"vrep.py\" could not be imported. This means very probably that')\n",
    "    print ('either \"vrep.py\" or the remoteApi library could not be found.')\n",
    "    print ('Make sure both are in the same folder as this file,')\n",
    "    print ('or appropriately adjust the file \"vrep.py\"')\n",
    "    print ('--------------------------------------------------------------')\n",
    "    print ('')\n",
    "\n",
    "import time\n",
    "\n",
    "print ('Program started')\n",
    "vrep.simxFinish(-1) # just in case, close all opened connections\n",
    "clientID=vrep.simxStart('127.0.0.1',19999,True,True,5000,5) # Connect to V-REP\n",
    "if clientID!=-1:\n",
    "    print ('Connected to remote API server')\n",
    "\n",
    "    # Now try to retrieve data in a blocking fashion (i.e. a service call):\n",
    "    res,objs=vrep.simxGetObjects(clientID,vrep.sim_handle_all,vrep.simx_opmode_blocking)\n",
    "    if res==vrep.simx_return_ok:\n",
    "        print ('Number of objects in the scene: ',len(objs))\n",
    "    else:\n",
    "        print ('Remote API function call returned with error code: ',res)\n",
    "    err,hand = vrep.simxGetObjectHandle(clientID,'Pioneer_p3dx_leftMotor',vrep.simx_opmode_blocking)\n",
    "    err, hand2 =  vrep.simxGetObjectHandle(clientID,'Pioneer_p3dx_rightMotor',vrep.simx_opmode_blocking)\n",
    "    res,v0=vrep.simxGetObjectHandle(clientID,'kinect_rgb',vrep.simx_opmode_oneshot_wait)\n",
    "    res,resolution,image=vrep.simxGetVisionSensorImage(clientID,v0,0,vrep.simx_opmode_streaming)\n",
    "\n",
    "\n",
    "    # Now retrieve streaming data (i.e. in a non-blocking fashion):\n",
    "    startTime=time.time()\n",
    "    vrep.simxGetIntegerParameter(clientID,vrep.sim_intparam_mouse_x,vrep.simx_opmode_streaming) # Initialize streaming\n",
    "    while True:\n",
    "        err = vrep.simxSetJointTargetVelocity(clientID,hand,1.0,\n",
    "vrep.simx_opmode_streaming)\n",
    "        err = vrep.simxSetJointTargetVelocity(clientID,hand2,0.0,\n",
    "vrep.simx_opmode_streaming)\n",
    "        res,resolution,image=vrep.simxGetVisionSensorImage(clientID,v0,0,vrep.simx_opmode_buffer)\n",
    "        if res == vrep.simx_return_ok:\n",
    "            print(\"image OK!!!\")\n",
    "            img = np.array(image,dtype=np.uint8)\n",
    "            img.resize([resolution[1],resolution[0],3])\n",
    "            img = cv2.flip(img, 0)\n",
    "            img = cv2.cvtColor(img, cv2.COLOR_RGB2BGR)         \n",
    "            cv2.imshow('image',img)\n",
    "            if cv2.waitKey(1) & 0xFF == ord('q'):\n",
    "                break\n",
    "\n",
    "    # Now send some data to V-REP in a non-blocking fashion:\n",
    "    vrep.simxAddStatusbarMessage(clientID,'Hello V-REP!',vrep.simx_opmode_oneshot)\n",
    "\n",
    "    # Before closing the connection to V-REP, make sure that the last command sent out had time to arrive. You can guarantee this with (for example):\n",
    "    vrep.simxGetPingTime(clientID)\n",
    "\n",
    "    # Now close the connection to V-REP:\n",
    "    vrep.simxFinish(clientID)\n",
    "else:\n",
    "    print ('Failed connecting to remote API server')\n",
    "print ('Program ended')\n",
    "plt.imshow(image)\n",
    "plt.show()"
   ]
  },
  {
   "cell_type": "code",
   "execution_count": null,
   "metadata": {
    "collapsed": false
   },
   "outputs": [],
   "source": [
    "import vrep\n",
    "import cv2\n",
    "import array\n",
    "import numpy as np\n",
    "import time\n",
    "from PIL import Image as I\n",
    "from vrepclasses import Initializer, Robot, Camera, Controller\n",
    "\n",
    "init = Initializer()\n",
    "robot = Robot(init.clientID)\n",
    "camera = Camera(init.clientID)\n",
    "controller = Controller(init.clientID, robot)\n",
    "centroid = None\n",
    "dt = None\n",
    "while True:\n",
    "    try:\n",
    "        start = time.time()\n",
    "        img = camera.shot()\n",
    "        cent_ant = centroid\n",
    "        centroid = camera.process(img)\n",
    "        if cent_ant is not None and centroid is not None:\n",
    "            controller.control_pid(centroid[0], cent_ant[0], dt)\n",
    "        else:\n",
    "            pass\n",
    "        if cv2.waitKey(1) & 0xFF == ord('q'):\n",
    "                break\n",
    "        end = time.time()\n",
    "        dt = end - start\n",
    "        print(dt)"
   ]
  },
  {
   "cell_type": "code",
   "execution_count": null,
   "metadata": {
    "collapsed": false
   },
   "outputs": [],
   "source": [
    "import numpy as np\n",
    "import cv2\n",
    "import matplotlib.pyplot as plt\n",
    "b = np.zeros((640,480,3))\n",
    "b[100:200,200:300,:] = 1"
   ]
  },
  {
   "cell_type": "code",
   "execution_count": null,
   "metadata": {
    "collapsed": true
   },
   "outputs": [],
   "source": [
    "plt.imshow(b)"
   ]
  },
  {
   "cell_type": "code",
   "execution_count": null,
   "metadata": {},
   "outputs": [],
   "source": [
    "np.mean(np.argwhere(b==1).T, axis = 1)[1]"
   ]
  },
  {
   "cell_type": "code",
   "execution_count": null,
   "metadata": {},
   "outputs": [],
   "source": [
    "np.argwhere(b==1)"
   ]
  },
  {
   "cell_type": "code",
   "execution_count": null,
   "metadata": {},
   "outputs": [],
   "source": [
    "np.mean(np.argwhere(b==1).T, axis = 1)"
   ]
  },
  {
   "cell_type": "code",
   "execution_count": 25,
   "metadata": {},
   "outputs": [
    {
     "name": "stdout",
     "output_type": "stream",
     "text": [
      "['2', '3', '4', '2', '5', '8', '6', '8', '9', '6', '5', '4', '8', '7']\n"
     ]
    }
   ],
   "source": [
    "import re\n",
    "just = '234.258.689.65487'\n",
    "print([n for n in just if n.isdigit()])\n",
    "price = [int(n) for n in ''.join(re.findall(\"\\d+\", just))]"
   ]
  },
  {
   "cell_type": "code",
   "execution_count": 23,
   "metadata": {},
   "outputs": [
    {
     "data": {
      "text/plain": [
       "24"
      ]
     },
     "execution_count": 23,
     "metadata": {},
     "output_type": "execute_result"
    }
   ],
   "source": [
    "sum([2*p%9 for p in price[-2::-2]])"
   ]
  },
  {
   "cell_type": "code",
   "execution_count": 21,
   "metadata": {},
   "outputs": [
    {
     "data": {
      "text/plain": [
       "[2, 3, 4, 2, 5, 8, 6, 8, 9, 6, 5, 4, 8, 7]"
      ]
     },
     "execution_count": 21,
     "metadata": {},
     "output_type": "execute_result"
    }
   ],
   "source": [
    "price"
   ]
  },
  {
   "cell_type": "code",
   "execution_count": 26,
   "metadata": {},
   "outputs": [
    {
     "data": {
      "text/plain": [
       "[1, 2, 3, 4, 5, 6]"
      ]
     },
     "execution_count": 26,
     "metadata": {},
     "output_type": "execute_result"
    }
   ],
   "source": [
    "[1,2,3]+[4,5,6]"
   ]
  },
  {
   "cell_type": "code",
   "execution_count": 28,
   "metadata": {},
   "outputs": [
    {
     "name": "stdout",
     "output_type": "stream",
     "text": [
      "oi\n",
      "dale\n"
     ]
    }
   ],
   "source": [
    "print(\"oi\"); print(\"dale\")"
   ]
  },
  {
   "cell_type": "code",
   "execution_count": null,
   "metadata": {},
   "outputs": [],
   "source": []
  }
 ],
 "metadata": {
  "kernelspec": {
   "display_name": "Python 3",
   "language": "python",
   "name": "python3"
  },
  "language_info": {
   "codemirror_mode": {
    "name": "ipython",
    "version": 3
   },
   "file_extension": ".py",
   "mimetype": "text/x-python",
   "name": "python",
   "nbconvert_exporter": "python",
   "pygments_lexer": "ipython3",
   "version": "3.5.2"
  }
 },
 "nbformat": 4,
 "nbformat_minor": 2
}
