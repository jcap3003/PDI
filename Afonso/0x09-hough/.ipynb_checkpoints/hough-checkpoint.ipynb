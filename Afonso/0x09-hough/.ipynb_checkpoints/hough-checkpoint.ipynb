{
 "cells": [
  {
   "cell_type": "code",
   "execution_count": 1,
   "metadata": {
    "collapsed": true
   },
   "outputs": [],
   "source": []
  },
  {
   "cell_type": "code",
   "execution_count": 1,
   "metadata": {
    "collapsed": true
   },
   "outputs": [],
   "source": [
    "def print_points(event,x,y,flags,param):\n",
    "    if event == cv2.EVENT_LBUTTONDOWN:\n",
    "        print(\"x = {}, y={}\".format(x,y))\n",
    "    \n",
    "    \n",
    "    \n",
    "    "
   ]
  },
  {
   "cell_type": "code",
   "execution_count": 3,
   "metadata": {
    "collapsed": false
   },
   "outputs": [
    {
     "ename": "TypeError",
     "evalue": "print_points() takes 4 positional arguments but 5 were given",
     "output_type": "error",
     "traceback": [
      "\u001b[0;31m---------------------------------------------------------------------------\u001b[0m",
      "\u001b[0;31mTypeError\u001b[0m                                 Traceback (most recent call last)",
      "\u001b[0;31mTypeError\u001b[0m: print_points() takes 4 positional arguments but 5 were given"
     ]
    },
    {
     "ename": "TypeError",
     "evalue": "print_points() takes 4 positional arguments but 5 were given",
     "output_type": "error",
     "traceback": [
      "\u001b[0;31m---------------------------------------------------------------------------\u001b[0m",
      "\u001b[0;31mTypeError\u001b[0m                                 Traceback (most recent call last)",
      "\u001b[0;31mTypeError\u001b[0m: print_points() takes 4 positional arguments but 5 were given"
     ]
    },
    {
     "ename": "TypeError",
     "evalue": "print_points() takes 4 positional arguments but 5 were given",
     "output_type": "error",
     "traceback": [
      "\u001b[0;31m---------------------------------------------------------------------------\u001b[0m",
      "\u001b[0;31mTypeError\u001b[0m                                 Traceback (most recent call last)",
      "\u001b[0;31mTypeError\u001b[0m: print_points() takes 4 positional arguments but 5 were given"
     ]
    },
    {
     "ename": "TypeError",
     "evalue": "print_points() takes 4 positional arguments but 5 were given",
     "output_type": "error",
     "traceback": [
      "\u001b[0;31m---------------------------------------------------------------------------\u001b[0m",
      "\u001b[0;31mTypeError\u001b[0m                                 Traceback (most recent call last)",
      "\u001b[0;31mTypeError\u001b[0m: print_points() takes 4 positional arguments but 5 were given"
     ]
    },
    {
     "ename": "TypeError",
     "evalue": "print_points() takes 4 positional arguments but 5 were given",
     "output_type": "error",
     "traceback": [
      "\u001b[0;31m---------------------------------------------------------------------------\u001b[0m",
      "\u001b[0;31mTypeError\u001b[0m                                 Traceback (most recent call last)",
      "\u001b[0;31mTypeError\u001b[0m: print_points() takes 4 positional arguments but 5 were given"
     ]
    },
    {
     "ename": "TypeError",
     "evalue": "print_points() takes 4 positional arguments but 5 were given",
     "output_type": "error",
     "traceback": [
      "\u001b[0;31m---------------------------------------------------------------------------\u001b[0m",
      "\u001b[0;31mTypeError\u001b[0m                                 Traceback (most recent call last)",
      "\u001b[0;31mTypeError\u001b[0m: print_points() takes 4 positional arguments but 5 were given"
     ]
    },
    {
     "ename": "TypeError",
     "evalue": "print_points() takes 4 positional arguments but 5 were given",
     "output_type": "error",
     "traceback": [
      "\u001b[0;31m---------------------------------------------------------------------------\u001b[0m",
      "\u001b[0;31mTypeError\u001b[0m                                 Traceback (most recent call last)",
      "\u001b[0;31mTypeError\u001b[0m: print_points() takes 4 positional arguments but 5 were given"
     ]
    },
    {
     "ename": "TypeError",
     "evalue": "print_points() takes 4 positional arguments but 5 were given",
     "output_type": "error",
     "traceback": [
      "\u001b[0;31m---------------------------------------------------------------------------\u001b[0m",
      "\u001b[0;31mTypeError\u001b[0m                                 Traceback (most recent call last)",
      "\u001b[0;31mTypeError\u001b[0m: print_points() takes 4 positional arguments but 5 were given"
     ]
    },
    {
     "ename": "TypeError",
     "evalue": "print_points() takes 4 positional arguments but 5 were given",
     "output_type": "error",
     "traceback": [
      "\u001b[0;31m---------------------------------------------------------------------------\u001b[0m",
      "\u001b[0;31mTypeError\u001b[0m                                 Traceback (most recent call last)",
      "\u001b[0;31mTypeError\u001b[0m: print_points() takes 4 positional arguments but 5 were given"
     ]
    },
    {
     "ename": "TypeError",
     "evalue": "print_points() takes 4 positional arguments but 5 were given",
     "output_type": "error",
     "traceback": [
      "\u001b[0;31m---------------------------------------------------------------------------\u001b[0m",
      "\u001b[0;31mTypeError\u001b[0m                                 Traceback (most recent call last)",
      "\u001b[0;31mTypeError\u001b[0m: print_points() takes 4 positional arguments but 5 were given"
     ]
    },
    {
     "ename": "TypeError",
     "evalue": "print_points() takes 4 positional arguments but 5 were given",
     "output_type": "error",
     "traceback": [
      "\u001b[0;31m---------------------------------------------------------------------------\u001b[0m",
      "\u001b[0;31mTypeError\u001b[0m                                 Traceback (most recent call last)",
      "\u001b[0;31mTypeError\u001b[0m: print_points() takes 4 positional arguments but 5 were given"
     ]
    },
    {
     "ename": "TypeError",
     "evalue": "print_points() takes 4 positional arguments but 5 were given",
     "output_type": "error",
     "traceback": [
      "\u001b[0;31m---------------------------------------------------------------------------\u001b[0m",
      "\u001b[0;31mTypeError\u001b[0m                                 Traceback (most recent call last)",
      "\u001b[0;31mTypeError\u001b[0m: print_points() takes 4 positional arguments but 5 were given"
     ]
    },
    {
     "ename": "TypeError",
     "evalue": "print_points() takes 4 positional arguments but 5 were given",
     "output_type": "error",
     "traceback": [
      "\u001b[0;31m---------------------------------------------------------------------------\u001b[0m",
      "\u001b[0;31mTypeError\u001b[0m                                 Traceback (most recent call last)",
      "\u001b[0;31mTypeError\u001b[0m: print_points() takes 4 positional arguments but 5 were given"
     ]
    },
    {
     "ename": "TypeError",
     "evalue": "print_points() takes 4 positional arguments but 5 were given",
     "output_type": "error",
     "traceback": [
      "\u001b[0;31m---------------------------------------------------------------------------\u001b[0m",
      "\u001b[0;31mTypeError\u001b[0m                                 Traceback (most recent call last)",
      "\u001b[0;31mTypeError\u001b[0m: print_points() takes 4 positional arguments but 5 were given"
     ]
    },
    {
     "ename": "TypeError",
     "evalue": "print_points() takes 4 positional arguments but 5 were given",
     "output_type": "error",
     "traceback": [
      "\u001b[0;31m---------------------------------------------------------------------------\u001b[0m",
      "\u001b[0;31mTypeError\u001b[0m                                 Traceback (most recent call last)",
      "\u001b[0;31mTypeError\u001b[0m: print_points() takes 4 positional arguments but 5 were given"
     ]
    },
    {
     "ename": "TypeError",
     "evalue": "print_points() takes 4 positional arguments but 5 were given",
     "output_type": "error",
     "traceback": [
      "\u001b[0;31m---------------------------------------------------------------------------\u001b[0m",
      "\u001b[0;31mTypeError\u001b[0m                                 Traceback (most recent call last)",
      "\u001b[0;31mTypeError\u001b[0m: print_points() takes 4 positional arguments but 5 were given"
     ]
    },
    {
     "ename": "TypeError",
     "evalue": "print_points() takes 4 positional arguments but 5 were given",
     "output_type": "error",
     "traceback": [
      "\u001b[0;31m---------------------------------------------------------------------------\u001b[0m",
      "\u001b[0;31mTypeError\u001b[0m                                 Traceback (most recent call last)",
      "\u001b[0;31mTypeError\u001b[0m: print_points() takes 4 positional arguments but 5 were given"
     ]
    },
    {
     "ename": "TypeError",
     "evalue": "print_points() takes 4 positional arguments but 5 were given",
     "output_type": "error",
     "traceback": [
      "\u001b[0;31m---------------------------------------------------------------------------\u001b[0m",
      "\u001b[0;31mTypeError\u001b[0m                                 Traceback (most recent call last)",
      "\u001b[0;31mTypeError\u001b[0m: print_points() takes 4 positional arguments but 5 were given"
     ]
    },
    {
     "ename": "TypeError",
     "evalue": "print_points() takes 4 positional arguments but 5 were given",
     "output_type": "error",
     "traceback": [
      "\u001b[0;31m---------------------------------------------------------------------------\u001b[0m",
      "\u001b[0;31mTypeError\u001b[0m                                 Traceback (most recent call last)",
      "\u001b[0;31mTypeError\u001b[0m: print_points() takes 4 positional arguments but 5 were given"
     ]
    },
    {
     "ename": "TypeError",
     "evalue": "print_points() takes 4 positional arguments but 5 were given",
     "output_type": "error",
     "traceback": [
      "\u001b[0;31m---------------------------------------------------------------------------\u001b[0m",
      "\u001b[0;31mTypeError\u001b[0m                                 Traceback (most recent call last)",
      "\u001b[0;31mTypeError\u001b[0m: print_points() takes 4 positional arguments but 5 were given"
     ]
    },
    {
     "ename": "TypeError",
     "evalue": "print_points() takes 4 positional arguments but 5 were given",
     "output_type": "error",
     "traceback": [
      "\u001b[0;31m---------------------------------------------------------------------------\u001b[0m",
      "\u001b[0;31mTypeError\u001b[0m                                 Traceback (most recent call last)",
      "\u001b[0;31mTypeError\u001b[0m: print_points() takes 4 positional arguments but 5 were given"
     ]
    },
    {
     "ename": "TypeError",
     "evalue": "print_points() takes 4 positional arguments but 5 were given",
     "output_type": "error",
     "traceback": [
      "\u001b[0;31m---------------------------------------------------------------------------\u001b[0m",
      "\u001b[0;31mTypeError\u001b[0m                                 Traceback (most recent call last)",
      "\u001b[0;31mTypeError\u001b[0m: print_points() takes 4 positional arguments but 5 were given"
     ]
    },
    {
     "ename": "TypeError",
     "evalue": "print_points() takes 4 positional arguments but 5 were given",
     "output_type": "error",
     "traceback": [
      "\u001b[0;31m---------------------------------------------------------------------------\u001b[0m",
      "\u001b[0;31mTypeError\u001b[0m                                 Traceback (most recent call last)",
      "\u001b[0;31mTypeError\u001b[0m: print_points() takes 4 positional arguments but 5 were given"
     ]
    },
    {
     "ename": "TypeError",
     "evalue": "print_points() takes 4 positional arguments but 5 were given",
     "output_type": "error",
     "traceback": [
      "\u001b[0;31m---------------------------------------------------------------------------\u001b[0m",
      "\u001b[0;31mTypeError\u001b[0m                                 Traceback (most recent call last)",
      "\u001b[0;31mTypeError\u001b[0m: print_points() takes 4 positional arguments but 5 were given"
     ]
    },
    {
     "ename": "TypeError",
     "evalue": "print_points() takes 4 positional arguments but 5 were given",
     "output_type": "error",
     "traceback": [
      "\u001b[0;31m---------------------------------------------------------------------------\u001b[0m",
      "\u001b[0;31mTypeError\u001b[0m                                 Traceback (most recent call last)",
      "\u001b[0;31mTypeError\u001b[0m: print_points() takes 4 positional arguments but 5 were given"
     ]
    },
    {
     "ename": "TypeError",
     "evalue": "print_points() takes 4 positional arguments but 5 were given",
     "output_type": "error",
     "traceback": [
      "\u001b[0;31m---------------------------------------------------------------------------\u001b[0m",
      "\u001b[0;31mTypeError\u001b[0m                                 Traceback (most recent call last)",
      "\u001b[0;31mTypeError\u001b[0m: print_points() takes 4 positional arguments but 5 were given"
     ]
    },
    {
     "ename": "TypeError",
     "evalue": "print_points() takes 4 positional arguments but 5 were given",
     "output_type": "error",
     "traceback": [
      "\u001b[0;31m---------------------------------------------------------------------------\u001b[0m",
      "\u001b[0;31mTypeError\u001b[0m                                 Traceback (most recent call last)",
      "\u001b[0;31mTypeError\u001b[0m: print_points() takes 4 positional arguments but 5 were given"
     ]
    },
    {
     "ename": "TypeError",
     "evalue": "print_points() takes 4 positional arguments but 5 were given",
     "output_type": "error",
     "traceback": [
      "\u001b[0;31m---------------------------------------------------------------------------\u001b[0m",
      "\u001b[0;31mTypeError\u001b[0m                                 Traceback (most recent call last)",
      "\u001b[0;31mTypeError\u001b[0m: print_points() takes 4 positional arguments but 5 were given"
     ]
    },
    {
     "ename": "TypeError",
     "evalue": "print_points() takes 4 positional arguments but 5 were given",
     "output_type": "error",
     "traceback": [
      "\u001b[0;31m---------------------------------------------------------------------------\u001b[0m",
      "\u001b[0;31mTypeError\u001b[0m                                 Traceback (most recent call last)",
      "\u001b[0;31mTypeError\u001b[0m: print_points() takes 4 positional arguments but 5 were given"
     ]
    },
    {
     "ename": "TypeError",
     "evalue": "print_points() takes 4 positional arguments but 5 were given",
     "output_type": "error",
     "traceback": [
      "\u001b[0;31m---------------------------------------------------------------------------\u001b[0m",
      "\u001b[0;31mTypeError\u001b[0m                                 Traceback (most recent call last)",
      "\u001b[0;31mTypeError\u001b[0m: print_points() takes 4 positional arguments but 5 were given"
     ]
    },
    {
     "ename": "TypeError",
     "evalue": "print_points() takes 4 positional arguments but 5 were given",
     "output_type": "error",
     "traceback": [
      "\u001b[0;31m---------------------------------------------------------------------------\u001b[0m",
      "\u001b[0;31mTypeError\u001b[0m                                 Traceback (most recent call last)",
      "\u001b[0;31mTypeError\u001b[0m: print_points() takes 4 positional arguments but 5 were given"
     ]
    },
    {
     "ename": "TypeError",
     "evalue": "print_points() takes 4 positional arguments but 5 were given",
     "output_type": "error",
     "traceback": [
      "\u001b[0;31m---------------------------------------------------------------------------\u001b[0m",
      "\u001b[0;31mTypeError\u001b[0m                                 Traceback (most recent call last)",
      "\u001b[0;31mTypeError\u001b[0m: print_points() takes 4 positional arguments but 5 were given"
     ]
    },
    {
     "ename": "TypeError",
     "evalue": "print_points() takes 4 positional arguments but 5 were given",
     "output_type": "error",
     "traceback": [
      "\u001b[0;31m---------------------------------------------------------------------------\u001b[0m",
      "\u001b[0;31mTypeError\u001b[0m                                 Traceback (most recent call last)",
      "\u001b[0;31mTypeError\u001b[0m: print_points() takes 4 positional arguments but 5 were given"
     ]
    },
    {
     "ename": "TypeError",
     "evalue": "print_points() takes 4 positional arguments but 5 were given",
     "output_type": "error",
     "traceback": [
      "\u001b[0;31m---------------------------------------------------------------------------\u001b[0m",
      "\u001b[0;31mTypeError\u001b[0m                                 Traceback (most recent call last)",
      "\u001b[0;31mTypeError\u001b[0m: print_points() takes 4 positional arguments but 5 were given"
     ]
    },
    {
     "ename": "TypeError",
     "evalue": "print_points() takes 4 positional arguments but 5 were given",
     "output_type": "error",
     "traceback": [
      "\u001b[0;31m---------------------------------------------------------------------------\u001b[0m",
      "\u001b[0;31mTypeError\u001b[0m                                 Traceback (most recent call last)",
      "\u001b[0;31mTypeError\u001b[0m: print_points() takes 4 positional arguments but 5 were given"
     ]
    },
    {
     "ename": "TypeError",
     "evalue": "print_points() takes 4 positional arguments but 5 were given",
     "output_type": "error",
     "traceback": [
      "\u001b[0;31m---------------------------------------------------------------------------\u001b[0m",
      "\u001b[0;31mTypeError\u001b[0m                                 Traceback (most recent call last)",
      "\u001b[0;31mTypeError\u001b[0m: print_points() takes 4 positional arguments but 5 were given"
     ]
    },
    {
     "ename": "TypeError",
     "evalue": "print_points() takes 4 positional arguments but 5 were given",
     "output_type": "error",
     "traceback": [
      "\u001b[0;31m---------------------------------------------------------------------------\u001b[0m",
      "\u001b[0;31mTypeError\u001b[0m                                 Traceback (most recent call last)",
      "\u001b[0;31mTypeError\u001b[0m: print_points() takes 4 positional arguments but 5 were given"
     ]
    },
    {
     "ename": "TypeError",
     "evalue": "print_points() takes 4 positional arguments but 5 were given",
     "output_type": "error",
     "traceback": [
      "\u001b[0;31m---------------------------------------------------------------------------\u001b[0m",
      "\u001b[0;31mTypeError\u001b[0m                                 Traceback (most recent call last)",
      "\u001b[0;31mTypeError\u001b[0m: print_points() takes 4 positional arguments but 5 were given"
     ]
    },
    {
     "ename": "TypeError",
     "evalue": "print_points() takes 4 positional arguments but 5 were given",
     "output_type": "error",
     "traceback": [
      "\u001b[0;31m---------------------------------------------------------------------------\u001b[0m",
      "\u001b[0;31mTypeError\u001b[0m                                 Traceback (most recent call last)",
      "\u001b[0;31mTypeError\u001b[0m: print_points() takes 4 positional arguments but 5 were given"
     ]
    },
    {
     "ename": "TypeError",
     "evalue": "print_points() takes 4 positional arguments but 5 were given",
     "output_type": "error",
     "traceback": [
      "\u001b[0;31m---------------------------------------------------------------------------\u001b[0m",
      "\u001b[0;31mTypeError\u001b[0m                                 Traceback (most recent call last)",
      "\u001b[0;31mTypeError\u001b[0m: print_points() takes 4 positional arguments but 5 were given"
     ]
    },
    {
     "ename": "TypeError",
     "evalue": "print_points() takes 4 positional arguments but 5 were given",
     "output_type": "error",
     "traceback": [
      "\u001b[0;31m---------------------------------------------------------------------------\u001b[0m",
      "\u001b[0;31mTypeError\u001b[0m                                 Traceback (most recent call last)",
      "\u001b[0;31mTypeError\u001b[0m: print_points() takes 4 positional arguments but 5 were given"
     ]
    },
    {
     "ename": "TypeError",
     "evalue": "print_points() takes 4 positional arguments but 5 were given",
     "output_type": "error",
     "traceback": [
      "\u001b[0;31m---------------------------------------------------------------------------\u001b[0m",
      "\u001b[0;31mTypeError\u001b[0m                                 Traceback (most recent call last)",
      "\u001b[0;31mTypeError\u001b[0m: print_points() takes 4 positional arguments but 5 were given"
     ]
    },
    {
     "ename": "TypeError",
     "evalue": "print_points() takes 4 positional arguments but 5 were given",
     "output_type": "error",
     "traceback": [
      "\u001b[0;31m---------------------------------------------------------------------------\u001b[0m",
      "\u001b[0;31mTypeError\u001b[0m                                 Traceback (most recent call last)",
      "\u001b[0;31mTypeError\u001b[0m: print_points() takes 4 positional arguments but 5 were given"
     ]
    },
    {
     "ename": "TypeError",
     "evalue": "print_points() takes 4 positional arguments but 5 were given",
     "output_type": "error",
     "traceback": [
      "\u001b[0;31m---------------------------------------------------------------------------\u001b[0m",
      "\u001b[0;31mTypeError\u001b[0m                                 Traceback (most recent call last)",
      "\u001b[0;31mTypeError\u001b[0m: print_points() takes 4 positional arguments but 5 were given"
     ]
    },
    {
     "ename": "TypeError",
     "evalue": "print_points() takes 4 positional arguments but 5 were given",
     "output_type": "error",
     "traceback": [
      "\u001b[0;31m---------------------------------------------------------------------------\u001b[0m",
      "\u001b[0;31mTypeError\u001b[0m                                 Traceback (most recent call last)",
      "\u001b[0;31mTypeError\u001b[0m: print_points() takes 4 positional arguments but 5 were given"
     ]
    },
    {
     "ename": "TypeError",
     "evalue": "print_points() takes 4 positional arguments but 5 were given",
     "output_type": "error",
     "traceback": [
      "\u001b[0;31m---------------------------------------------------------------------------\u001b[0m",
      "\u001b[0;31mTypeError\u001b[0m                                 Traceback (most recent call last)",
      "\u001b[0;31mTypeError\u001b[0m: print_points() takes 4 positional arguments but 5 were given"
     ]
    },
    {
     "ename": "TypeError",
     "evalue": "print_points() takes 4 positional arguments but 5 were given",
     "output_type": "error",
     "traceback": [
      "\u001b[0;31m---------------------------------------------------------------------------\u001b[0m",
      "\u001b[0;31mTypeError\u001b[0m                                 Traceback (most recent call last)",
      "\u001b[0;31mTypeError\u001b[0m: print_points() takes 4 positional arguments but 5 were given"
     ]
    },
    {
     "ename": "TypeError",
     "evalue": "print_points() takes 4 positional arguments but 5 were given",
     "output_type": "error",
     "traceback": [
      "\u001b[0;31m---------------------------------------------------------------------------\u001b[0m",
      "\u001b[0;31mTypeError\u001b[0m                                 Traceback (most recent call last)",
      "\u001b[0;31mTypeError\u001b[0m: print_points() takes 4 positional arguments but 5 were given"
     ]
    },
    {
     "ename": "TypeError",
     "evalue": "print_points() takes 4 positional arguments but 5 were given",
     "output_type": "error",
     "traceback": [
      "\u001b[0;31m---------------------------------------------------------------------------\u001b[0m",
      "\u001b[0;31mTypeError\u001b[0m                                 Traceback (most recent call last)",
      "\u001b[0;31mTypeError\u001b[0m: print_points() takes 4 positional arguments but 5 were given"
     ]
    },
    {
     "ename": "TypeError",
     "evalue": "print_points() takes 4 positional arguments but 5 were given",
     "output_type": "error",
     "traceback": [
      "\u001b[0;31m---------------------------------------------------------------------------\u001b[0m",
      "\u001b[0;31mTypeError\u001b[0m                                 Traceback (most recent call last)",
      "\u001b[0;31mTypeError\u001b[0m: print_points() takes 4 positional arguments but 5 were given"
     ]
    },
    {
     "ename": "TypeError",
     "evalue": "print_points() takes 4 positional arguments but 5 were given",
     "output_type": "error",
     "traceback": [
      "\u001b[0;31m---------------------------------------------------------------------------\u001b[0m",
      "\u001b[0;31mTypeError\u001b[0m                                 Traceback (most recent call last)",
      "\u001b[0;31mTypeError\u001b[0m: print_points() takes 4 positional arguments but 5 were given"
     ]
    },
    {
     "ename": "TypeError",
     "evalue": "print_points() takes 4 positional arguments but 5 were given",
     "output_type": "error",
     "traceback": [
      "\u001b[0;31m---------------------------------------------------------------------------\u001b[0m",
      "\u001b[0;31mTypeError\u001b[0m                                 Traceback (most recent call last)",
      "\u001b[0;31mTypeError\u001b[0m: print_points() takes 4 positional arguments but 5 were given"
     ]
    },
    {
     "ename": "TypeError",
     "evalue": "print_points() takes 4 positional arguments but 5 were given",
     "output_type": "error",
     "traceback": [
      "\u001b[0;31m---------------------------------------------------------------------------\u001b[0m",
      "\u001b[0;31mTypeError\u001b[0m                                 Traceback (most recent call last)",
      "\u001b[0;31mTypeError\u001b[0m: print_points() takes 4 positional arguments but 5 were given"
     ]
    }
   ],
   "source": [
    "img = np.zeros((512,512,3), np.uint8)\n",
    "cv2.namedWindow('image')\n",
    "cv2.setMouseCallback('image',print_points)\n",
    "\n",
    "while(1):\n",
    "    cv2.imshow('image',img)\n",
    "    k = cv2.waitKey(1) & 0xFF\n",
    "    if k == ord('m'):\n",
    "        mode = not mode\n",
    "    elif k == 27:\n",
    "        break\n",
    "\n",
    "cv2.destroyAllWindows()"
   ]
  },
  {
   "cell_type": "code",
   "execution_count": 2,
   "metadata": {
    "collapsed": true
   },
   "outputs": [],
   "source": [
    "import cv2\n",
    "import numpy as np\n",
    "import matplotlib.pyplot as plt\n",
    "\n",
    "drawing = False # true if mouse is pressed\n",
    "mode = True # if True, draw rectangle. Press 'm' to toggle to curve\n",
    "ix,iy = -1,-1\n",
    "\n",
    "# mouse callback function\n",
    "def draw_circle(event,x,y,flags,param):\n",
    "    global ix,iy,drawing,mode\n",
    "\n",
    "    if event == cv2.EVENT_LBUTTONDOWN:\n",
    "        print(\"x = {}, y={}\".format(x,y))\n",
    "\n"
   ]
  },
  {
   "cell_type": "code",
   "execution_count": 3,
   "metadata": {
    "collapsed": false
   },
   "outputs": [
    {
     "data": {
      "text/plain": [
       "(720, 1280, 3)"
      ]
     },
     "execution_count": 3,
     "metadata": {},
     "output_type": "execute_result"
    }
   ],
   "source": [
    "img = cv2.imread(\"peppa.jpg\")\n",
    "naruto = cv2.imread('naruto.jpg')\n",
    "naruto.shape\n",
    "naruto = cv2.resize(naruto, (img.shape[1],img.shape[0]))\n",
    "naruto.shape\n",
    "# cv2.namedWindow('image')\n",
    "# cv2.setMouseCallback('image',draw_circle)\n",
    "\n",
    "# while(1):\n",
    "#     cv2.imshow('image',img)\n",
    "#     k = cv2.waitKey(1) & 0xFF\n",
    "#     if k == ord('m'):\n",
    "#         mode = not mode\n",
    "#     elif k == ord('q'):\n",
    "#         break\n",
    "\n",
    "# cv2.destroyAllWindows()"
   ]
  },
  {
   "cell_type": "code",
   "execution_count": 4,
   "metadata": {
    "collapsed": true
   },
   "outputs": [],
   "source": [
    "# x = 726, y=165\n",
    "# x = 838, y=168\n",
    "# x = 840, y=279\n",
    "# x = 722, y=276"
   ]
  },
  {
   "cell_type": "code",
   "execution_count": 5,
   "metadata": {
    "collapsed": false
   },
   "outputs": [],
   "source": [
    "pts1 = np.float32([[0,0],[naruto.shape[0], 0],[naruto.shape[0], naruto.shape[1]],[0,naruto.shape[1]]])\n",
    "\n",
    "pts2 = np.float32([[726,165],[838,168],[840,279], [722,276]])\n",
    "\n",
    "M = cv2.getPerspectiveTransform(pts1,pts2)\n",
    "img_transformada = cv2.warpPerspective(naruto,M,(naruto.shape[1],naruto.shape[0]), )\n"
   ]
  },
  {
   "cell_type": "code",
   "execution_count": null,
   "metadata": {
    "collapsed": false
   },
   "outputs": [],
   "source": [
    "while(1):\n",
    "    cv2.imshow('image',img)\n",
    "    cv2.imshow('naruto', img_transformada)\n",
    "    k = cv2.waitKey(1) & 0xFF\n",
    "    if k == ord('m'):\n",
    "        mode = not mode\n",
    "    elif k == ord('q'):\n",
    "        break"
   ]
  },
  {
   "cell_type": "code",
   "execution_count": null,
   "metadata": {
    "collapsed": true
   },
   "outputs": [],
   "source": []
  },
  {
   "cell_type": "code",
   "execution_count": 1,
   "metadata": {
    "collapsed": false
   },
   "outputs": [
    {
     "name": "stdout",
     "output_type": "stream",
     "text": [
      "<class 'int'>\n",
      "<class 'int'>\n",
      "<class 'int'>\n",
      "<class 'int'>\n",
      "<class 'int'>\n",
      "<class 'int'>\n",
      "<class 'int'>\n",
      "<class 'int'>\n",
      "here\n"
     ]
    }
   ],
   "source": [
    "import cv2\n",
    "import numpy as np\n",
    "import matplotlib.pyplot as plt\n",
    "\n",
    "def draw_circle(event,x,y,flags,param):\n",
    "    global pts1, mode\n",
    "\n",
    "    if event == cv2.EVENT_LBUTTONDOWN:\n",
    "        if mode == 1:\n",
    "            pts1.append([x,y])\n",
    "        elif mode == 2:\n",
    "            pts3.append([x,y])\n",
    "        print(type(x))\n",
    "\n",
    "\n",
    "\n",
    "mode = 0\n",
    "cv2.namedWindow('image')\n",
    "cv2.setMouseCallback('image',draw_circle)\n",
    "peppa = plt.imread('peppa.jpg')\n",
    "pele = plt.imread('deboka.jpeg')\n",
    "rows, cols = pele.shape[:2]\n",
    "pts1 = []\n",
    "pts2 = np.float32([[0,0],[cols,0],[0,rows],[cols,rows]])\n",
    "peppa = cv2.cvtColor(peppa, cv2.COLOR_RGB2BGR)\n",
    "pele =  cv2.cvtColor(pele, cv2.COLOR_RGB2BGR)\n",
    "mode+=1\n",
    "while(1):\n",
    "    k = cv2.waitKey(1) & 0xFF\n",
    "    cv2.imshow('image', peppa)\n",
    "    if k == ord(\"q\") or len(pts1)>=4:\n",
    "        break\n",
    "\n",
    "M = cv2.getPerspectiveTransform(pts2,np.float32(pts1))\n",
    "r =cv2.warpPerspective(pele, M, (peppa.shape[1],peppa.shape[0]), peppa, borderMode=cv2.BORDER_TRANSPARENT)\n",
    "pts3 = []\n",
    "mode+=1\n",
    "while(1):\n",
    "    k = cv2.waitKey(1) & 0xFF\n",
    "    cv2.imshow('image', peppa)\n",
    "    if k == ord(\"q\") or len(pts3)>=4:\n",
    "        break\n",
    "cap = cv2.VideoCapture(0)\n",
    "\n",
    "frame = None\n",
    "while frame is None:\n",
    "    ret, frame = cap.read()\n",
    "rows,cols = frame.shape[:2]\n",
    "pts4 = np.float32([[0,0],[cols,0],[0,rows],[cols,rows]])\n",
    "M = cv2.getPerspectiveTransform(pts4,np.float32(pts3))\n",
    "print('here')\n",
    "while(1):\n",
    "    ret, frame = cap.read()\n",
    "    cv2.imshow('frame', frame)\n",
    "    r =cv2.warpPerspective(frame,M,(peppa.shape[1],peppa.shape[0]), peppa, borderMode=cv2.BORDER_TRANSPARENT)\n",
    "    cv2.imshow('image', peppa)\n",
    "    k = cv2.waitKey(1) & 0xFF\n",
    "    if k == ord('m'):\n",
    "        mode = not mode\n",
    "    elif k == ord('q'):\n",
    "        break\n",
    "cv2.destroyAllWindows()"
   ]
  },
  {
   "cell_type": "code",
   "execution_count": 2,
   "metadata": {
    "collapsed": true
   },
   "outputs": [],
   "source": [
    "while(1):\n",
    "    cv2.imshow('naruto', peppa)\n",
    "    k = cv2.waitKey(1) & 0xFF\n",
    "    if k == ord('m'):\n",
    "        mode = not mode\n",
    "    elif k == ord('q'):\n",
    "        break"
   ]
  },
  {
   "cell_type": "code",
   "execution_count": null,
   "metadata": {
    "collapsed": true
   },
   "outputs": [],
   "source": []
  },
  {
   "cell_type": "code",
   "execution_count": null,
   "metadata": {
    "collapsed": true
   },
   "outputs": [],
   "source": []
  }
 ],
 "metadata": {
  "kernelspec": {
   "display_name": "Python 3",
   "language": "python",
   "name": "python3"
  },
  "language_info": {
   "codemirror_mode": {
    "name": "ipython",
    "version": 3
   },
   "file_extension": ".py",
   "mimetype": "text/x-python",
   "name": "python",
   "nbconvert_exporter": "python",
   "pygments_lexer": "ipython3",
   "version": "3.6.3"
  }
 },
 "nbformat": 4,
 "nbformat_minor": 2
}
